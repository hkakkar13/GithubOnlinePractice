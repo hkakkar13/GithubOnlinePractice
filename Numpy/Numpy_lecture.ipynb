{
 "cells": [
  {
   "cell_type": "code",
   "execution_count": 2,
   "metadata": {},
   "outputs": [],
   "source": [
    "import numpy as np\n"
   ]
  },
  {
   "cell_type": "code",
   "execution_count": 6,
   "metadata": {},
   "outputs": [
    {
     "name": "stdout",
     "output_type": "stream",
     "text": [
      "(4, 3)\n",
      "(6, 2)\n",
      "(3, 2)\n",
      "(3,)\n",
      "[4 5 6]\n",
      "[4 5 6]\n",
      "(1, 3)\n",
      "[[4 5 6]]\n",
      "[[4]\n",
      " [5]\n",
      " [6]]\n",
      "(3, 1)\n",
      "[[4]\n",
      " [5]\n",
      " [6]]\n",
      "[[4 5 6]]\n"
     ]
    }
   ],
   "source": [
    "a = np.zeros((4,3))\n",
    "b = np.ones((2,3))\n",
    "\n",
    "print(a.shape)\n",
    "a = a.reshape(6,2)\n",
    "print(a.shape)\n",
    "\n",
    "b.resize((3,2))\n",
    "print(b.shape)\n",
    "\n",
    "c = np.array([4,5,6])\n",
    "print(c.shape)\n",
    "print(c)\n",
    "print(c.T)\n",
    "\n",
    "d = np.array([[4,5,6]])\n",
    "print(d.shape)\n",
    "print(d)\n",
    "print(d.T)\n",
    "\n",
    "e = np.array([[4],[5],[6]])\n",
    "print(e.shape)\n",
    "print(e)\n",
    "print(e.T)"
   ]
  },
  {
   "cell_type": "code",
   "execution_count": 8,
   "metadata": {},
   "outputs": [
    {
     "name": "stdout",
     "output_type": "stream",
     "text": [
      "[1 2 3 4]\n",
      "(4,)\n"
     ]
    },
    {
     "data": {
      "text/plain": [
       "30"
      ]
     },
     "execution_count": 8,
     "metadata": {},
     "output_type": "execute_result"
    }
   ],
   "source": [
    "x = np.array([1,2,3,4])\n",
    "y = np.array([1,2,3,4])\n",
    "print(y.T)\n",
    "print(x.shape)\n",
    "x.dot(y.T)"
   ]
  },
  {
   "cell_type": "markdown",
   "metadata": {},
   "source": [
    "### Array Stacking"
   ]
  },
  {
   "cell_type": "code",
   "execution_count": 21,
   "metadata": {},
   "outputs": [
    {
     "name": "stdout",
     "output_type": "stream",
     "text": [
      "Printing the a array[1 2 3 4]\n",
      "\n",
      "Printing the b array[ 1  4  9 16]\n",
      "\n",
      "Printing the np.stack along axis=0\n",
      "[[ 1  2  3  4]\n",
      " [ 1  4  9 16]]\n",
      "Printing the np.stack along axis=1\n",
      "[[ 1  1]\n",
      " [ 2  4]\n",
      " [ 3  9]\n",
      " [ 4 16]]\n",
      "Printing the np.hstack \n",
      "[ 1  2  3  4  1  4  9 16]\n",
      "Printing the np.vstack \n",
      "[[ 1  2  3  4]\n",
      " [ 1  4  9 16]]\n",
      "Converting the numpy array to list \n",
      "[1, 2, 3, 4]\n",
      "Converting the numpy array to list \n",
      "[1, 2, 3, 4]\n"
     ]
    }
   ],
   "source": [
    "\n",
    "a = np.array([1,2,3,4])\n",
    "b = np.array([1,2,3,4])\n",
    "b = b**2\n",
    "\n",
    "print(f\"Printing the a array{a}\\n\")\n",
    "print(f\"Printing the b array{b}\\n\")\n",
    "\n",
    "print(f\"Printing the np.stack along axis=0\\n{np.stack((a,b),axis=0)}\")\n",
    "print(f\"Printing the np.stack along axis=1\\n{np.stack((a,b),axis=1)}\")\n",
    "print(f\"Printing the np.hstack \\n{np.hstack((a,b))}\")\n",
    "print(f\"Printing the np.vstack \\n{np.vstack((a,b))}\")\n",
    "\n",
    "print(f\"Converting the numpy array to list \\n{a.tolist()}\")\n",
    "print(f\"Converting the numpy array to list \\n{list(a)}\")\n",
    "\n",
    "\n",
    "\n"
   ]
  },
  {
   "cell_type": "markdown",
   "metadata": {},
   "source": [
    "### Statistical Computation"
   ]
  },
  {
   "cell_type": "code",
   "execution_count": 18,
   "metadata": {},
   "outputs": [
    {
     "name": "stdout",
     "output_type": "stream",
     "text": [
      "Printing the Median: 2.0\n",
      "\n",
      "Printing the Mean: 2.4\n",
      "\n",
      "Printing the Average: 2.066666666666667\n",
      "\n",
      "1.854723699099141\n",
      "1.854723699099141\n",
      "3.440000000000001\n",
      "3.4400000000000004\n"
     ]
    }
   ],
   "source": [
    "c = np.array([1,5,4,2,0])\n",
    "w = np.array([1,2,3,4,5])\n",
    "print(f\"Printing the Median: {np.median(c)}\\n\")\n",
    "print(f\"Printing the Mean: {np.mean(c)}\\n\")\n",
    "print(f\"Printing the Average: {np.average(c,weights=w)}\\n\")\n",
    "\n",
    "#Standard Deviation\n",
    "u = np.mean(c)\n",
    "myStd = np.sqrt(np.mean(abs(c-u)**2))\n",
    "print(myStd)\n",
    "\n",
    "dev = np.std(c)\n",
    "print(dev)\n",
    "\n",
    "#Variance\n",
    "print(myStd**2)\n",
    "print(np.var(c))"
   ]
  },
  {
   "cell_type": "markdown",
   "metadata": {},
   "source": [
    "### Quiz -- good learning"
   ]
  },
  {
   "cell_type": "code",
   "execution_count": 32,
   "metadata": {},
   "outputs": [
    {
     "name": "stdout",
     "output_type": "stream",
     "text": [
      "[10  8  8  9  7  5]\n",
      "\n",
      "[8 8 9 7 5]\n",
      "\n"
     ]
    }
   ],
   "source": [
    "a = np.random.randint(0,15,size=(4,4))\n",
    "\n",
    "print(f\"{a[np.where((a>=5) & (a<=10))]}\\n\")\n",
    "print(f\"{a[(a>=5)&(a<10)]}\\n\")"
   ]
  },
  {
   "cell_type": "code",
   "execution_count": 33,
   "metadata": {},
   "outputs": [
    {
     "name": "stdout",
     "output_type": "stream",
     "text": [
      "[[ 1  2  3  4 17 18 19 20]\n",
      " [ 5  6  7  8 21 22 23 24]\n",
      " [ 9 10 11 12 25 26 27 28]\n",
      " [13 14 15 16 29 30 31 32]]\n",
      "\n",
      "[[ 1  2  3  4]\n",
      " [ 5  6  7  8]\n",
      " [ 9 10 11 12]\n",
      " [13 14 15 16]\n",
      " [17 18 19 20]\n",
      " [21 22 23 24]\n",
      " [25 26 27 28]\n",
      " [29 30 31 32]]\n",
      "\n",
      "[[ 1  2  3  4 17 18 19 20]\n",
      " [ 5  6  7  8 21 22 23 24]\n",
      " [ 9 10 11 12 25 26 27 28]\n",
      " [13 14 15 16 29 30 31 32]]\n",
      "\n"
     ]
    }
   ],
   "source": [
    "a = np.arange(1,17).reshape(4,4)\n",
    "b = np.arange(17,33).reshape(4,4)\n",
    "\n",
    "print(f\"{np.hstack((a,b))}\\n\")\n",
    "print(f\"{np.concatenate((a,b),axis=0)}\\n\")\n",
    "print(f\"{np.concatenate((a,b),axis=1)}\\n\")"
   ]
  },
  {
   "cell_type": "code",
   "execution_count": 38,
   "metadata": {},
   "outputs": [
    {
     "name": "stdout",
     "output_type": "stream",
     "text": [
      "Option1 :\n",
      "[[[ 0  1  2]\n",
      "  [ 3  4  5]\n",
      "  [ 6  7  8]]\n",
      "\n",
      " [[ 9 10 11]\n",
      "  [12 13 14]\n",
      "  [15 16 17]]\n",
      "\n",
      " [[18 19 20]\n",
      "  [21 22 23]\n",
      "  [24 25 26]]]\n",
      "\n",
      "Option2 :\n",
      "[[[18 19 20]\n",
      "  [21 22 23]\n",
      "  [24 25 26]]\n",
      "\n",
      " [[ 9 10 11]\n",
      "  [12 13 14]\n",
      "  [15 16 17]]\n",
      "\n",
      " [[ 0  1  2]\n",
      "  [ 3  4  5]\n",
      "  [ 6  7  8]]]\n",
      "\n",
      "Option3 :\n",
      "[[[ 6  7  8]\n",
      "  [ 3  4  5]\n",
      "  [ 0  1  2]]\n",
      "\n",
      " [[15 16 17]\n",
      "  [12 13 14]\n",
      "  [ 9 10 11]]\n",
      "\n",
      " [[24 25 26]\n",
      "  [21 22 23]\n",
      "  [18 19 20]]]\n",
      "\n",
      "Option4 :\n",
      "[[[18 19 20]\n",
      "  [21 22 23]\n",
      "  [24 25 26]]\n",
      "\n",
      " [[ 9 10 11]\n",
      "  [12 13 14]\n",
      "  [15 16 17]]\n",
      "\n",
      " [[ 0  1  2]\n",
      "  [ 3  4  5]\n",
      "  [ 6  7  8]]]\n",
      "\n"
     ]
    }
   ],
   "source": [
    "img = np.arange(3*3*3).reshape(3,3,3)\n",
    "\n",
    "print(f\"Option1 :\\n{img[::]}\\n\")\n",
    "print(f\"Option2 :\\n{img[::-1]}\\n\")\n",
    "print(f\"Option3 :\\n{img[:,::-1]}\\n\")\n",
    "print(f\"Option4 :\\n{img[[2,1,0],:,:]}\\n\")"
   ]
  },
  {
   "cell_type": "markdown",
   "metadata": {},
   "source": [
    "### Tensors"
   ]
  },
  {
   "cell_type": "code",
   "execution_count": 38,
   "metadata": {},
   "outputs": [
    {
     "name": "stdout",
     "output_type": "stream",
     "text": [
      "(4, 3, 3)\n",
      "[[[0 0 0]\n",
      "  [0 0 0]\n",
      "  [0 0 0]]\n",
      "\n",
      " [[0 0 0]\n",
      "  [0 0 0]\n",
      "  [0 0 0]]\n",
      "\n",
      " [[0 0 0]\n",
      "  [0 0 0]\n",
      "  [0 0 0]]\n",
      "\n",
      " [[0 0 0]\n",
      "  [0 0 0]\n",
      "  [0 0 0]]]\n",
      "[[[0 0 0 0]\n",
      "  [0 0 0 0]\n",
      "  [0 0 0 0]]\n",
      "\n",
      " [[0 0 0 0]\n",
      "  [0 0 0 0]\n",
      "  [0 0 0 0]]\n",
      "\n",
      " [[0 0 0 0]\n",
      "  [0 0 0 0]\n",
      "  [0 0 0 0]]]\n"
     ]
    }
   ],
   "source": [
    "img = np.zeros((4,3,3),dtype='uint8')\n",
    "print(img.shape)\n",
    "print(img)\n",
    "\n"
   ]
  },
  {
   "cell_type": "code",
   "execution_count": 37,
   "metadata": {},
   "outputs": [
    {
     "name": "stdout",
     "output_type": "stream",
     "text": [
      "[[[0 0 0]]]\n"
     ]
    },
    {
     "data": {
      "image/png": "[encoded data removed]",
      "text/plain": [
       "<Figure size 432x288 with 1 Axes>"
      ]
     },
     "metadata": {
      "needs_background": "light"
     },
     "output_type": "display_data"
    }
   ],
   "source": [
    "import matplotlib.pyplot as plt\n",
    "\n",
    "y = np.zeros((1,1,3),dtype='uint8')\n",
    "y[:,:,:] = 0\n",
    "print(y)\n",
    "plt.imshow(y)\n",
    "plt.show()\n"
   ]
  },
  {
   "cell_type": "code",
   "execution_count": 39,
   "metadata": {},
   "outputs": [
    {
     "name": "stdout",
     "output_type": "stream",
     "text": [
      "[[[0 0 0 0]\n",
      "  [0 0 0 0]\n",
      "  [0 0 0 0]]\n",
      "\n",
      " [[0 0 0 0]\n",
      "  [0 0 0 0]\n",
      "  [0 0 0 0]]\n",
      "\n",
      " [[0 0 0 0]\n",
      "  [0 0 0 0]\n",
      "  [0 0 0 0]]]\n",
      "(3, 3, 4)\n"
     ]
    }
   ],
   "source": [
    "x = img\n",
    "print(np.transpose(x))\n",
    "print(np.transpose(x).shape)"
   ]
  },
  {
   "cell_type": "code",
   "execution_count": 43,
   "metadata": {},
   "outputs": [
    {
     "name": "stdout",
     "output_type": "stream",
     "text": [
      "[[[0 0 0]\n",
      "  [0 0 0]\n",
      "  [0 0 0]\n",
      "  [0 0 0]]\n",
      "\n",
      " [[0 0 0]\n",
      "  [0 0 0]\n",
      "  [0 0 0]\n",
      "  [0 0 0]]\n",
      "\n",
      " [[0 0 0]\n",
      "  [0 0 0]\n",
      "  [0 0 0]\n",
      "  [0 0 0]]]\n",
      "(3, 4, 3)\n"
     ]
    }
   ],
   "source": [
    "print(np.transpose(x,axes=(1,0,2)))\n",
    "print(np.transpose(x,axes=(1,0,2)).shape)"
   ]
  },
  {
   "cell_type": "markdown",
   "metadata": {},
   "source": [
    "### Hadamard product and Matrix Multiplication"
   ]
  },
  {
   "cell_type": "code",
   "execution_count": 45,
   "metadata": {},
   "outputs": [
    {
     "name": "stdout",
     "output_type": "stream",
     "text": [
      "[[ 5 12]\n",
      " [21 32]]\n",
      "[[19 22]\n",
      " [43 50]]\n"
     ]
    }
   ],
   "source": [
    "a = np.array([[1,2],[3,4]])\n",
    "b = np.array([[5,6],[7,8]])\n",
    "\n",
    "## Hadamard product : Element-wise multiplication\n",
    "print(a*b)\n",
    "\n",
    "## Matrix multiplication or Dot product\n",
    "print(np.dot(a,b))"
   ]
  },
  {
   "cell_type": "markdown",
   "metadata": {},
   "source": [
    "### Norm"
   ]
  },
  {
   "cell_type": "code",
   "execution_count": 48,
   "metadata": {},
   "outputs": [
    {
     "name": "stdout",
     "output_type": "stream",
     "text": [
      "5.0\n",
      "7.0\n",
      "4.0\n"
     ]
    }
   ],
   "source": [
    "x = np.array([3,4])\n",
    "\n",
    "## LP2 Norm\n",
    "lp2 = np.linalg.norm(x)\n",
    "print(lp2)\n",
    "\n",
    "## LP1 Norm\n",
    "lp1 = np.linalg.norm(x,ord=1)\n",
    "print(lp1)\n",
    "\n",
    "## Infinit norm\n",
    "lpinf = np.linalg.norm(x,ord=np.inf)\n",
    "print(lpinf)"
   ]
  },
  {
   "cell_type": "code",
   "execution_count": 62,
   "metadata": {},
   "outputs": [
    {
     "name": "stdout",
     "output_type": "stream",
     "text": [
      "(3, 3)\n",
      "[[ 2 -2  1]\n",
      " [-1  2 -1]\n",
      " [ 2 -4  1]]\n",
      "7.0\n",
      "6.0\n",
      "6\n"
     ]
    }
   ],
   "source": [
    "y = np.array([[2,-2,1],[-1,2,-1],[2,-4,1]])\n",
    "print(y.shape)\n",
    "print(y)\n",
    "\n",
    "lpinf = np.linalg.norm(y,ord=np.inf)\n",
    "print(lpinf)\n",
    "\n",
    "lp2 = np.linalg.norm(y)\n",
    "print(lp2)\n",
    "print(lp2.astype(np.int64))"
   ]
  },
  {
   "cell_type": "code",
   "execution_count": 65,
   "metadata": {},
   "outputs": [
    {
     "name": "stdout",
     "output_type": "stream",
     "text": [
      "[[ 1 -3  4]\n",
      " [-2 10 -7]\n",
      " [ 0  1  0]\n",
      " [ 0  0  0]]\n",
      "[[ 5  0]\n",
      " [-2 11]\n",
      " [-3 12]]\n",
      "Dot product AB is[[-1 15]\n",
      " [-9 26]\n",
      " [-2 11]\n",
      " [ 0  0]]\n"
     ]
    },
    {
     "ename": "ValueError",
     "evalue": "operands could not be broadcast together with shapes (4,3) (3,2) ",
     "output_type": "error",
     "traceback": [
      "\u001b[1;31m---------------------------------------------------------------------------\u001b[0m",
      "\u001b[1;31mValueError\u001b[0m                                Traceback (most recent call last)",
      "\u001b[1;32m<ipython-input-65-41fabf16b547>\u001b[0m in \u001b[0;36m<module>\u001b[1;34m\u001b[0m\n\u001b[0;32m      6\u001b[0m \u001b[1;33m\u001b[0m\u001b[0m\n\u001b[0;32m      7\u001b[0m \u001b[0mprint\u001b[0m\u001b[1;33m(\u001b[0m\u001b[1;34mf\"Dot product AB is{np.dot(A,B)}\"\u001b[0m\u001b[1;33m)\u001b[0m\u001b[1;33m\u001b[0m\u001b[1;33m\u001b[0m\u001b[0m\n\u001b[1;32m----> 8\u001b[1;33m \u001b[0mprint\u001b[0m\u001b[1;33m(\u001b[0m\u001b[1;34mf\"A*B is{A*B}\"\u001b[0m\u001b[1;33m)\u001b[0m\u001b[1;33m\u001b[0m\u001b[1;33m\u001b[0m\u001b[0m\n\u001b[0m",
      "\u001b[1;31mValueError\u001b[0m: operands could not be broadcast together with shapes (4,3) (3,2) "
     ]
    }
   ],
   "source": [
    "A = np.array([[1,-3,4],[-2,10,-7],[0,1,0],[0,0,0]])\n",
    "B = np.array([[5,0],[-2,11],[-3,12]])\n",
    "\n",
    "print(A)\n",
    "print(B)\n",
    "\n",
    "print(f\"Dot product AB is{np.dot(A,B)}\")\n",
    "print(f\"A*B is{A*B}\")"
   ]
  },
  {
   "cell_type": "code",
   "execution_count": null,
   "metadata": {},
   "outputs": [],
   "source": []
  }
 ],
 "metadata": {
  "kernelspec": {
   "display_name": "Python 3",
   "language": "python",
   "name": "python3"
  },
  "language_info": {
   "codemirror_mode": {
    "name": "ipython",
    "version": 3
   },
   "file_extension": ".py",
   "mimetype": "text/x-python",
   "name": "python",
   "nbconvert_exporter": "python",
   "pygments_lexer": "ipython3",
   "version": "3.8.5"
  }
 },
 "nbformat": 4,
 "nbformat_minor": 4
}
