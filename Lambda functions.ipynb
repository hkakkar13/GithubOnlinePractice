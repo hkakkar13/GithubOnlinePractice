{
 "cells": [
  {
   "cell_type": "markdown",
   "metadata": {},
   "source": [
    "## Lambda Functions\n",
    "One liner functions - Synctactical Sugar"
   ]
  },
  {
   "cell_type": "code",
   "execution_count": 8,
   "metadata": {},
   "outputs": [],
   "source": [
    "def add():\n",
    "    return 10+20"
   ]
  },
  {
   "cell_type": "code",
   "execution_count": 9,
   "metadata": {},
   "outputs": [
    {
     "name": "stdout",
     "output_type": "stream",
     "text": [
      "<function add at 0x058582B0>\n"
     ]
    }
   ],
   "source": [
    "print(add)   #add is function object"
   ]
  },
  {
   "cell_type": "code",
   "execution_count": 3,
   "metadata": {},
   "outputs": [
    {
     "name": "stdout",
     "output_type": "stream",
     "text": [
      "10\n"
     ]
    }
   ],
   "source": [
    "add = 10\n",
    "print(add)"
   ]
  },
  {
   "cell_type": "code",
   "execution_count": 13,
   "metadata": {},
   "outputs": [],
   "source": [
    "add = lambda a,b:a+b"
   ]
  },
  {
   "cell_type": "code",
   "execution_count": 14,
   "metadata": {},
   "outputs": [
    {
     "name": "stdout",
     "output_type": "stream",
     "text": [
      "<function <lambda> at 0x04D66AD8>\n"
     ]
    }
   ],
   "source": [
    "print(add)"
   ]
  },
  {
   "cell_type": "code",
   "execution_count": 15,
   "metadata": {},
   "outputs": [
    {
     "data": {
      "text/plain": [
       "12"
      ]
     },
     "execution_count": 15,
     "metadata": {},
     "output_type": "execute_result"
    }
   ],
   "source": [
    "add(10,2)"
   ]
  },
  {
   "cell_type": "code",
   "execution_count": 1,
   "metadata": {},
   "outputs": [],
   "source": [
    "sorted?"
   ]
  },
  {
   "cell_type": "code",
   "execution_count": 18,
   "metadata": {},
   "outputs": [
    {
     "name": "stdout",
     "output_type": "stream",
     "text": [
      "[('Dhoni', 52), ('Sachin', 10), ('Yuvraj', 3)]\n"
     ]
    },
    {
     "data": {
      "text/plain": [
       "[('Yuvraj', 3), ('Sachin', 10), ('Dhoni', 52)]"
      ]
     },
     "execution_count": 18,
     "metadata": {},
     "output_type": "execute_result"
    }
   ],
   "source": [
    "a = [(\"Sachin\",10),(\"Dhoni\",52),(\"Yuvraj\",3)]\n",
    "print(sorted(a)) #Print is required to print the output of this sorted list too else only last line will be \n",
    "                    #displayed on the screen\n",
    "sorted(a, key = lambda x:x[1]) #Sort the list on basis of lambda function key"
   ]
  },
  {
   "cell_type": "code",
   "execution_count": 3,
   "metadata": {},
   "outputs": [
    {
     "name": "stdout",
     "output_type": "stream",
     "text": [
      "('Sachin', 10)\n",
      "<function key at 0x05248928>\n",
      "('Dhoni', 52)\n",
      "<function key at 0x05248928>\n",
      "('Yuvraj', 3)\n",
      "<function key at 0x05248928>\n"
     ]
    },
    {
     "data": {
      "text/plain": [
       "[('Yuvraj', 3), ('Sachin', 10), ('Dhoni', 52)]"
      ]
     },
     "execution_count": 3,
     "metadata": {},
     "output_type": "execute_result"
    }
   ],
   "source": [
    "###Another way of above sort function\n",
    "a = [(\"Sachin\",10),(\"Dhoni\",52),(\"Yuvraj\",3)]\n",
    "def key(x):\n",
    "    print(x)\n",
    "    print(key)\n",
    "    return x[1]\n",
    "\n",
    "sorted(a,key = key)"
   ]
  },
  {
   "cell_type": "code",
   "execution_count": null,
   "metadata": {},
   "outputs": [],
   "source": []
  }
 ],
 "metadata": {
  "kernelspec": {
   "display_name": "Python 3",
   "language": "python",
   "name": "python3"
  },
  "language_info": {
   "codemirror_mode": {
    "name": "ipython",
    "version": 3
   },
   "file_extension": ".py",
   "mimetype": "text/x-python",
   "name": "python",
   "nbconvert_exporter": "python",
   "pygments_lexer": "ipython3",
   "version": "3.8.5"
  }
 },
 "nbformat": 4,
 "nbformat_minor": 4
}
