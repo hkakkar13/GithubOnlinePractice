{
 "cells": [
  {
   "cell_type": "code",
   "execution_count": 11,
   "metadata": {},
   "outputs": [
    {
     "name": "stdout",
     "output_type": "stream",
     "text": [
      "   MarksA  MarksB  MarksC\n",
      "0    94.0    72.0    74.0\n",
      "1    53.0    54.0    61.0\n",
      "2    63.0    57.0    97.0\n",
      "3    94.0    72.0    50.0\n",
      "4    73.0    55.0    62.0\n",
      "   MarksA  MarksB  MarksC\n",
      "0    94.0    72.0    74.0\n",
      "1    53.0    54.0    61.0\n",
      "2    63.0    57.0    97.0\n",
      "3    94.0    72.0    50.0\n",
      "4    73.0    55.0    62.0\n",
      "          MarksA     MarksB     MarksC\n",
      "count   5.000000   5.000000   5.000000\n",
      "mean   75.400000  62.000000  68.800000\n",
      "std    18.392933   9.192388  17.908099\n",
      "min    53.000000  54.000000  50.000000\n",
      "25%    63.000000  55.000000  61.000000\n",
      "50%    73.000000  57.000000  62.000000\n",
      "75%    94.000000  72.000000  74.000000\n",
      "max    94.000000  72.000000  97.000000\n",
      "\n",
      "Slicing Operations:\n",
      "   MarksB  MarksC\n",
      "0    72.0    74.0\n",
      "1    54.0    61.0\n",
      "2    57.0    97.0\n",
      "   MarksA  MarksB\n",
      "3    94.0    72.0\n",
      "4    73.0    55.0\n",
      "   MarksA  MarksB  MarksC\n",
      "0    94.0    72.0    74.0\n",
      "3    94.0    72.0    50.0\n",
      "4    73.0    55.0    62.0\n",
      "2    63.0    57.0    97.0\n",
      "1    53.0    54.0    61.0\n",
      "   MarksA  MarksB  MarksC\n",
      "0    94.0    72.0    74.0\n",
      "3    94.0    72.0    50.0\n",
      "4    73.0    55.0    62.0\n",
      "2    63.0    57.0    97.0\n",
      "1    53.0    54.0    61.0\n",
      "   MarksA  MarksB  MarksC\n",
      "0    94.0    72.0    74.0\n",
      "1    53.0    54.0    61.0\n",
      "2    63.0    57.0    97.0\n",
      "3    94.0    72.0    50.0\n",
      "4    73.0    55.0    62.0\n",
      "<class 'numpy.ndarray'> (5, 3)\n",
      "<class 'pandas.core.frame.DataFrame'> (5, 3)\n"
     ]
    }
   ],
   "source": [
    "import pandas as pd\n",
    "import numpy as np\n",
    "\n",
    "user_data = {'MarksA':np.random.randint(50,100,5) ,'MarksB':np.random.randint(50,100,5) ,'MarksC':np.random.randint(50,100,5)}\n",
    "  \n",
    "#Dictionary to pandas df\n",
    "df = pd.DataFrame(user_data,dtype='float32')         \n",
    "print(df)\n",
    "\n",
    "#df to csv file\n",
    "df.to_csv('marks.csv')\n",
    "\n",
    "#Read csv file to df\n",
    "mydata = pd.read_csv('marks.csv',usecols=[1,2,3])\n",
    "print(mydata)\n",
    "print(mydata.describe())\n",
    "\n",
    "#Accessing the column and slicing in df\n",
    "idx=[df.columns.get_loc('MarksB'),df.columns.get_loc('MarksC')]\n",
    "print(f\"\\nSlicing Operations:\\n{df.iloc[:3,idx]}\\n{df.iloc[3:,[0,1]]}\")\n",
    "\n",
    "#Sorting the vlaues in df\n",
    "print(mydata.sort_values(by=[\"MarksA\"],ascending=False))\n",
    "print(df.sort_values(by=[\"MarksA\"],ascending=False))\n",
    "print(mydata)\n"
   ]
  },
  {
   "cell_type": "code",
   "execution_count": 12,
   "metadata": {},
   "outputs": [
    {
     "name": "stdout",
     "output_type": "stream",
     "text": [
      "<class 'numpy.ndarray'> (5, 3)\n",
      "<class 'pandas.core.frame.DataFrame'> (5, 3)\n",
      "[[94. 72. 74.]\n",
      " [53. 54. 61.]\n",
      " [63. 57. 97.]\n",
      " [94. 72. 50.]\n",
      " [73. 55. 62.]]\n",
      "   Physics  Chemistry  Maths\n",
      "0       94         72     74\n",
      "1       53         54     61\n",
      "2       63         57     97\n",
      "3       94         72     50\n",
      "4       73         55     62\n"
     ]
    }
   ],
   "source": [
    "### Pandas df to Numpy Array\n",
    "data_array = mydata.values\n",
    "print(type(data_array),(data_array.shape))\n",
    "print(type(mydata),(mydata.shape))\n",
    "print(data_array)\n",
    "\n",
    "### Numpy array to Pandas df\n",
    "newdf = pd.DataFrame(data_array,dtype='int32',columns=['Physics','Chemistry','Maths'])\n",
    "print(newdf)"
   ]
  },
  {
   "cell_type": "code",
   "execution_count": 15,
   "metadata": {},
   "outputs": [
    {
     "name": "stdout",
     "output_type": "stream",
     "text": [
      "   Physics  Chemistry  Maths\n",
      "0       94         72     74\n",
      "1       53         54     61\n",
      "2       63         57     97\n",
      "3       94         72     50\n",
      "4       73         55     62\n"
     ]
    }
   ],
   "source": [
    "newdf.to_csv('newMarks.csv',index=False)\n",
    "\n",
    "newmarks = pd.read_csv('newMarks.csv')\n",
    "print(newmarks)"
   ]
  },
  {
   "cell_type": "code",
   "execution_count": null,
   "metadata": {},
   "outputs": [],
   "source": []
  }
 ],
 "metadata": {
  "kernelspec": {
   "display_name": "Python 3",
   "language": "python",
   "name": "python3"
  },
  "language_info": {
   "codemirror_mode": {
    "name": "ipython",
    "version": 3
   },
   "file_extension": ".py",
   "mimetype": "text/x-python",
   "name": "python",
   "nbconvert_exporter": "python",
   "pygments_lexer": "ipython3",
   "version": "3.8.5"
  }
 },
 "nbformat": 4,
 "nbformat_minor": 4
}
