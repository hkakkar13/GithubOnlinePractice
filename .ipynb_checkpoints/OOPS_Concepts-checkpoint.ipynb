{
 "cells": [
  {
   "cell_type": "code",
   "execution_count": null,
   "metadata": {},
   "outputs": [],
   "source": []
  },
  {
   "cell_type": "code",
   "execution_count": 1,
   "metadata": {},
   "outputs": [],
   "source": [
    "class Car:\n",
    "    pass"
   ]
  },
  {
   "cell_type": "code",
   "execution_count": 100,
   "metadata": {},
   "outputs": [],
   "source": [
    "class Car:\n",
    "\n",
    "    vehicle = 'Four wheeler'\n",
    "    reading = '50KMph'\n",
    "    \n",
    "    def __init__(self,model,year):\n",
    "        self.model = model\n",
    "        self.year = year\n",
    "        \n",
    "    def __str__(self):\n",
    "        return f\"Yes i have the {self.model} car\"\n",
    "    \n",
    "    def speed(self):\n",
    "        return self.reading\n",
    "    \n",
    "class Skoda(Car):\n",
    "    \n",
    "    def speed(self):\n",
    "        return super().speed()\n",
    "        \n",
    "           \n",
    "    def horn(self,sound='SKKKKOOODDDAAA'):\n",
    "        return f\"the {self.vehicle} {self.model} makes {sound} sound \"\n",
    "    \n",
    "class Ritz(Car):\n",
    "    \n",
    "    reading = '60Kmph'\n",
    "    def speed(self):\n",
    "        return self.reading\n",
    "        \n",
    "           \n",
    "    def horn(self,sound='RIIIITTTZZZ'):\n",
    "        return f\"the {self.vehicle} {self.model} makes {sound} sound \""
   ]
  },
  {
   "cell_type": "code",
   "execution_count": 101,
   "metadata": {},
   "outputs": [
    {
     "name": "stdout",
     "output_type": "stream",
     "text": [
      "SKODA\n",
      "the Four wheeler SKODA makes SKKKKOOODDDAAA sound \n",
      "ritz\n",
      "60Kmph\n",
      "Yes i have the SKODA car\n",
      "50KMph\n"
     ]
    }
   ],
   "source": [
    "skoda = Skoda(\"SKODA\",2014)\n",
    "ritz = Ritz(\"ritz\",2013)\n",
    "\n",
    "print(skoda.model)\n",
    "\n",
    "print(skoda.horn())\n",
    "print(ritz.model)\n",
    "print(ritz.speed())\n",
    "\n",
    "print(skoda)\n",
    "print(skoda.speed())\n",
    "\n"
   ]
  },
  {
   "cell_type": "code",
   "execution_count": null,
   "metadata": {},
   "outputs": [],
   "source": []
  }
 ],
 "metadata": {
  "kernelspec": {
   "display_name": "Python 3",
   "language": "python",
   "name": "python3"
  },
  "language_info": {
   "codemirror_mode": {
    "name": "ipython",
    "version": 3
   },
   "file_extension": ".py",
   "mimetype": "text/x-python",
   "name": "python",
   "nbconvert_exporter": "python",
   "pygments_lexer": "ipython3",
   "version": "3.8.5"
  }
 },
 "nbformat": 4,
 "nbformat_minor": 4
}
