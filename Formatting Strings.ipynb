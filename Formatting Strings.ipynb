{
 "cells": [
  {
   "cell_type": "code",
   "execution_count": 10,
   "metadata": {},
   "outputs": [
    {
     "name": "stdout",
     "output_type": "stream",
     "text": [
      "Sachin Bhai Tendulkar\n",
      "Tendulkar-Bhai-Sachin\n",
      "Tendulkar-Bhai-Sachin\n",
      "Tendulkar-Bhai-Sachin\n",
      "Tendulkar--Bhai--Sachin\n"
     ]
    }
   ],
   "source": [
    "firstname = \"Sachin\"\n",
    "middlename = \"Bhai\"\n",
    "lastname = \"Tendulkar\"\n",
    "\n",
    "print (firstname, middlename, lastname)\n",
    "print (\"{}-{}-{}\".format(lastname,middlename,firstname))\n",
    "print (\"{2}-{1}-{0}\".format(firstname,middlename,lastname))\n",
    "#print (\"{lastname}-{middlename}-{firstname}\".format(firstname,middlename,lastname))\n",
    "##Above line wont work but below one will work\n",
    "print (\"{lastname}-{middlename}-{firstname}\".format(firstname=\"Sachin\",middlename=\"Bhai\",lastname=\"Tendulkar\"))\n",
    "\n",
    "print(f\"{lastname}--{middlename}--{firstname}\")"
   ]
  },
  {
   "cell_type": "markdown",
   "metadata": {},
   "source": [
    "### LSD are only Mutable others(string/int/float/bool.complex no) are immutable\n",
    "### Functions on strings - strip/split/replace/count"
   ]
  },
  {
   "cell_type": "code",
   "execution_count": null,
   "metadata": {},
   "outputs": [],
   "source": []
  }
 ],
 "metadata": {
  "kernelspec": {
   "display_name": "Python 3",
   "language": "python",
   "name": "python3"
  },
  "language_info": {
   "codemirror_mode": {
    "name": "ipython",
    "version": 3
   },
   "file_extension": ".py",
   "mimetype": "text/x-python",
   "name": "python",
   "nbconvert_exporter": "python",
   "pygments_lexer": "ipython3",
   "version": "3.8.5"
  }
 },
 "nbformat": 4,
 "nbformat_minor": 4
}
