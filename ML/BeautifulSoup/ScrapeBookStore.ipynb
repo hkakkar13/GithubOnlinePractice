{
 "cells": [
  {
   "cell_type": "code",
   "execution_count": 18,
   "metadata": {},
   "outputs": [],
   "source": [
    "import requests\n",
    "import pandas as pd\n",
    "import csv\n",
    "import json\n",
    "\n",
    "df = pd.read_csv(r\"C:\\Users\\kakka\\Downloads\\Test\\ID.csv\")\n",
    "Base_url = 'http://books.toscrape.com/'\n",
    "\n",
    "with open('output.csv',mode='w',newline='') as csv_file:\n",
    "    fieldnames = ['ID', 'Joke']\n",
    "    writer = csv.DictWriter(csv_file, fieldnames=fieldnames)\n",
    "    writer.writeheader()\n",
    "    \n",
    "    for i in df.iloc:\n",
    "        r = requests.get(Base_url+str(i[0]))\n",
    "        json_dic = json.loads(r.content)\n",
    "        writer.writerow({'ID': f\"{str(i[0])}\", 'Joke': f\"{json_dic['value']['joke']}\"})\n"
   ]
  },
  {
   "cell_type": "code",
   "execution_count": null,
   "metadata": {},
   "outputs": [],
   "source": []
  }
 ],
 "metadata": {
  "kernelspec": {
   "display_name": "Python 3",
   "language": "python",
   "name": "python3"
  },
  "language_info": {
   "codemirror_mode": {
    "name": "ipython",
    "version": 3
   },
   "file_extension": ".py",
   "mimetype": "text/x-python",
   "name": "python",
   "nbconvert_exporter": "python",
   "pygments_lexer": "ipython3",
   "version": "3.8.5"
  }
 },
 "nbformat": 4,
 "nbformat_minor": 4
}
