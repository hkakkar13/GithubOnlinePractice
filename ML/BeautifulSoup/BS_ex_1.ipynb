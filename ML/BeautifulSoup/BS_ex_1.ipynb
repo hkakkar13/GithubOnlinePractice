{
 "cells": [
  {
   "cell_type": "code",
   "execution_count": 116,
   "metadata": {},
   "outputs": [
    {
     "name": "stdout",
     "output_type": "stream",
     "text": [
      "['No official codename', '1.0', 'September 23, 2008', 'No', '1', '[9][14]']\n"
     ]
    },
    {
     "data": {
      "text/plain": [
       "'\\nfor tag1 in soup.find_all(\\'b\\') :\\n    print(tag1.prettify())\\n#    print(\"\\nPrinting the contents of the tag1\")\\n#    print(f\"\\n{tag1.contents[0]}\")\\n\\n\\n'"
      ]
     },
     "execution_count": 116,
     "metadata": {},
     "output_type": "execute_result"
    }
   ],
   "source": [
    "from bs4 import BeautifulSoup\n",
    "from bs4 import NavigableString\n",
    "import re\n",
    "import urllib.request \n",
    "\n",
    "android_url = urllib.request.urlopen(\"https://en.wikipedia.org/wiki/Android_version_history\")\n",
    "\n",
    "android_urlResponse = android_url.read()\n",
    "\n",
    "##print(android_urlResponse)\n",
    "\n",
    "soup = BeautifulSoup(android_urlResponse,'html.parser')\n",
    "soup.name\n",
    "\n",
    "\n",
    "table_tag = soup.find(\"table\",class_=\"wikitable\") \n",
    "#print(f\"\\nTable no {i}\\n{table_tag}\")\n",
    "\n",
    "rows_tag = table_tag.find_all(\"tr\")[1]\n",
    "\n",
    "list_td_tag = []\n",
    "for td_tag in rows_tag.find_all(\"td\") :\n",
    "    list_td_tag.append(td_tag.text[:-1])\n",
    "print(list_td_tag)\n",
    "#print(f\"{rows_tag.text}\")\n",
    "'''\n",
    "for row in rows_tag :\n",
    "    print(f\"{row.text}\")\n",
    "'''\n",
    "\n",
    "\n",
    "\n",
    "'''\n",
    "print(\"Trying the regular expression\")\n",
    "#found_tag = soup.find_all(string=re.compile(\"version\"))\n",
    "for found_tag in soup.find_all(string=re.compile(\"version\")) :\n",
    "    print(f\"{found_tag}\")\n",
    "'''\n",
    "\n",
    "'''\n",
    "def find_version_string(tag):\n",
    "    if (isinstance(tag.next_element, NavigableString)) :\n",
    "        if \"version\" in tag.next_element :\n",
    "            return True\n",
    "        else :\n",
    "            return False\n",
    "            \n",
    "    else :\n",
    "        return False\n",
    "\n",
    "\n",
    "for tag1 in soup.find_all(find_version_string):\n",
    "    for child in tag1.children:\n",
    "        print(child)\n",
    "   # print(f\"\\n{str(tag1.children)}\")\n",
    "\n",
    "'''\n",
    "    \n",
    "    \n",
    "\n",
    "'''\n",
    "for tag1 in soup.find_all('b') :\n",
    "    print(tag1.prettify())\n",
    "#    print(\"\\nPrinting the contents of the tag1\")\n",
    "#    print(f\"\\n{tag1.contents[0]}\")\n",
    "\n",
    "\n",
    "'''\n",
    "\n",
    "#print(f\"\\nNo of tables : {i-1} \\nEOF\")\n",
    "\n"
   ]
  },
  {
   "cell_type": "code",
   "execution_count": null,
   "metadata": {},
   "outputs": [],
   "source": []
  }
 ],
 "metadata": {
  "kernelspec": {
   "display_name": "Python 3",
   "language": "python",
   "name": "python3"
  },
  "language_info": {
   "codemirror_mode": {
    "name": "ipython",
    "version": 3
   },
   "file_extension": ".py",
   "mimetype": "text/x-python",
   "name": "python",
   "nbconvert_exporter": "python",
   "pygments_lexer": "ipython3",
   "version": "3.8.5"
  }
 },
 "nbformat": 4,
 "nbformat_minor": 4
}
