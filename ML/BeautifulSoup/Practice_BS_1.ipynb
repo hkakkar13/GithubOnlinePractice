{
 "cells": [
  {
   "cell_type": "code",
   "execution_count": 1,
   "metadata": {},
   "outputs": [
    {
     "name": "stdout",
     "output_type": "stream",
     "text": [
      "Name,Version number(s),Initial stablerelease date,Supported(security fixes),API level,References\n",
      "\n",
      "No official codename,1.0,September 23 2008,No,1,[9][14]\n",
      "\n",
      "No official codename,1.1,February 9 2009,No,2,[9][14][15]\n",
      "\n",
      "Cupcake,1.5,April 27 2009,No,3,[14][16]\n",
      "\n",
      "Donut,1.6,September 15 2009,No,4,[14][17]\n",
      "\n",
      "Eclair,2.0 – 2.1,October 26 2009,No,5 – 7,[14][18]\n",
      "\n",
      "Froyo,2.2 – 2.2.3,May 20 2010,No,8,[14][19]\n",
      "\n",
      "Gingerbread,2.3 – 2.3.7,December 6 2010,No,9 – 10,[14][20]\n",
      "\n",
      "Honeycomb,3.0 – 3.2.6,February 22 2011,No,11 – 13,[14][21]\n",
      "\n",
      "Ice Cream Sandwich,4.0 – 4.0.4,October 18 2011,No,14 – 15,[14][22]\n",
      "\n",
      "Jelly Bean,4.1 – 4.3.1,July 9 2012,No,16 – 18,[14][23]\n",
      "\n",
      "KitKat,4.4 – 4.4.4,October 31 2013,No,19 – 20,[14][24]\n",
      "\n",
      "Lollipop,5.0 – 5.1.1,November 12 2014,No,21 – 22,[14][25]\n",
      "\n",
      "Marshmallow,6.0 – 6.0.1,October 5 2015,No,23,[14][26]\n",
      "\n",
      "Nougat,7.0 – 7.1.2,August 22 2016,No,24 – 25,[14][27][28][29][30]\n",
      "\n",
      "Oreo,8.0,August 21 2017,No,26,[14][31][32]\n",
      "\n",
      "Oreo,8.1,December 5, 2017,Yes[a],27,[14][33]\n",
      "\n",
      "Pie,9,August 6 2018,Yes,28,[14][34]\n",
      "\n",
      "Android 10,10,September 3 2019,Yes,29,[14][35][36]\n",
      "\n",
      "Android 11,11,September 8 2020,Yes,30,[14][37]\n",
      "\n",
      "Android 12,12,TBA,Presupported,31,[14][38]\n",
      "\n"
     ]
    }
   ],
   "source": [
    "from urllib.request import urlopen as f_urlopen\n",
    "from bs4 import BeautifulSoup \n",
    "\n",
    "android_url = 'https://en.wikipedia.org/wiki/Android_version_history'\n",
    "\n",
    "response = f_urlopen(android_url)\n",
    "soup = BeautifulSoup(response,'html.parser')\n",
    "table_tag = soup.find('table','wikitable')\n",
    "\n",
    "fieldnames = [element.text[:-1] for element in table_tag.find_all('tr')[0].find_all('th')]\n",
    "\n",
    "version_table = []\n",
    "version_table.append(fieldnames)\n",
    "for rows in table_tag.find_all('tr')[1:]:\n",
    "    row = [element.text[:-1] for element in rows.find_all('td')]\n",
    "    row[2] = row[2].replace(',','')\n",
    "    version_table.append(row)\n",
    "    \n",
    "version_table[2].insert(0,'No official codename')\n",
    "version_table[2][2] = version_table[2][2].replace(',','')\n",
    "version_table[-5].insert(0,'Oreo')\n",
    "\n",
    "for version_entry in version_table:\n",
    "    print(f\"{','.join(version_entry)}\\n\")\n",
    "    \n"
   ]
  },
  {
   "cell_type": "code",
   "execution_count": 2,
   "metadata": {},
   "outputs": [],
   "source": [
    "import csv\n",
    "\n",
    "with open('android_versions.csv', mode='w',encoding='utf-8') as file:\n",
    "    file_writer = csv.writer(file, delimiter=',', quotechar='\"', quoting=csv.QUOTE_MINIMAL)    \n",
    "    for version_entry in version_table:\n",
    "        file_writer.writerow(version_entry)"
   ]
  },
  {
   "cell_type": "code",
   "execution_count": 84,
   "metadata": {},
   "outputs": [
    {
     "name": "stdout",
     "output_type": "stream",
     "text": [
      "                    Name Version number(s) Initial stablerelease date  \\\n",
      "0   No official codename               1.0          September 23 2008   \n",
      "1   No official codename               1.1            February 9 2009   \n",
      "2                Cupcake               1.5              April 27 2009   \n",
      "3                  Donut               1.6          September 15 2009   \n",
      "4                 Eclair         2.0 – 2.1            October 26 2009   \n",
      "5                  Froyo       2.2 – 2.2.3                May 20 2010   \n",
      "6            Gingerbread       2.3 – 2.3.7            December 6 2010   \n",
      "7              Honeycomb       3.0 – 3.2.6           February 22 2011   \n",
      "8     Ice Cream Sandwich       4.0 – 4.0.4            October 18 2011   \n",
      "9             Jelly Bean       4.1 – 4.3.1                July 9 2012   \n",
      "10                KitKat       4.4 – 4.4.4            October 31 2013   \n",
      "11              Lollipop       5.0 – 5.1.1           November 12 2014   \n",
      "12           Marshmallow       6.0 – 6.0.1             October 5 2015   \n",
      "13                Nougat       7.0 – 7.1.2             August 22 2016   \n",
      "14                  Oreo               8.0             August 21 2017   \n",
      "15                  Oreo               8.1           December 5, 2017   \n",
      "16                   Pie                 9              August 6 2018   \n",
      "17            Android 10                10           September 3 2019   \n",
      "18            Android 11                11           September 8 2020   \n",
      "19            Android 12                12                        TBA   \n",
      "\n",
      "   Supported(security fixes) API level            References  \n",
      "0                         No         1               [9][14]  \n",
      "1                         No         2           [9][14][15]  \n",
      "2                         No         3              [14][16]  \n",
      "3                         No         4              [14][17]  \n",
      "4                         No     5 – 7              [14][18]  \n",
      "5                         No         8              [14][19]  \n",
      "6                         No    9 – 10              [14][20]  \n",
      "7                         No   11 – 13              [14][21]  \n",
      "8                         No   14 – 15              [14][22]  \n",
      "9                         No   16 – 18              [14][23]  \n",
      "10                        No   19 – 20              [14][24]  \n",
      "11                        No   21 – 22              [14][25]  \n",
      "12                        No        23              [14][26]  \n",
      "13                        No   24 – 25  [14][27][28][29][30]  \n",
      "14                        No        26          [14][31][32]  \n",
      "15                    Yes[a]        27              [14][33]  \n",
      "16                       Yes        28              [14][34]  \n",
      "17                       Yes        29          [14][35][36]  \n",
      "18                       Yes        30              [14][37]  \n",
      "19              Presupported        31              [14][38]  \n"
     ]
    }
   ],
   "source": [
    "import pandas\n",
    "\n",
    "df = pandas.read_csv('android_versions.csv')\n",
    "print(df)"
   ]
  },
  {
   "cell_type": "code",
   "execution_count": 3,
   "metadata": {},
   "outputs": [
    {
     "name": "stdout",
     "output_type": "stream",
     "text": [
      "<class 'bytes'>\n",
      "{\"time\":{\"updated\":\"Apr 16, 2021 17:25:00 UTC\",\"updatedISO\":\"2021-04-16T17:25:00+00:00\",\"updateduk\":\"Apr 16, 2021 at 18:25 BST\"},\"disclaimer\":\"This data was produced from the CoinDesk Bitcoin Price Index (USD). Non-USD currency data converted using hourly conversion rate from openexchangerates.org\",\"chartName\":\"Bitcoin\",\"bpi\":{\"USD\":{\"code\":\"USD\",\"symbol\":\"&#36;\",\"rate\":\"61,769.8750\",\"description\":\"United States Dollar\",\"rate_float\":61769.875},\"GBP\":{\"code\":\"GBP\",\"symbol\":\"&pound;\",\"rate\":\"44,677.2858\",\"description\":\"British Pound Sterling\",\"rate_float\":44677.2858},\"EUR\":{\"code\":\"EUR\",\"symbol\":\"&euro;\",\"rate\":\"51,558.5117\",\"description\":\"Euro\",\"rate_float\":51558.5117}}}\n",
      "\n",
      "{'time': {'updated': 'Apr 16, 2021 17:25:00 UTC', 'updatedISO': '2021-04-16T17:25:00+00:00', 'updateduk': 'Apr 16, 2021 at 18:25 BST'}, 'disclaimer': 'This data was produced from the CoinDesk Bitcoin Price Index (USD). Non-USD currency data converted using hourly conversion rate from openexchangerates.org', 'chartName': 'Bitcoin', 'bpi': {'USD': {'code': 'USD', 'symbol': '&#36;', 'rate': '61,769.8750', 'description': 'United States Dollar', 'rate_float': 61769.875}, 'GBP': {'code': 'GBP', 'symbol': '&pound;', 'rate': '44,677.2858', 'description': 'British Pound Sterling', 'rate_float': 44677.2858}, 'EUR': {'code': 'EUR', 'symbol': '&euro;', 'rate': '51,558.5117', 'description': 'Euro', 'rate_float': 51558.5117}}}\n",
      "\n",
      "61,769.8750\n",
      "\n",
      "51,558.5117\n"
     ]
    }
   ],
   "source": [
    "import requests\n",
    "import json\n",
    "\n",
    "r = requests.get('https://api.coindesk.com/v1/bpi/currentprice.json')\n",
    "r.url\n",
    "print(type(r.content))\n",
    "\n",
    "print((r.content.decode(\"UTF=8\")))\n",
    "\n",
    "'''\n",
    "print(f\"Printing the url content \\n {r.content}\\n\")\n",
    "'''\n",
    "\n",
    "json_r = json.loads(r.content) \n",
    "print(f\"\\n{json_r}\")\n",
    "print(f\"\\n{json_r['bpi']['USD']['rate']}\")\n",
    "print(f\"\\n{json_r['bpi']['EUR']['rate']}\")\n"
   ]
  },
  {
   "cell_type": "code",
   "execution_count": 104,
   "metadata": {},
   "outputs": [],
   "source": [
    "import requests\n",
    "import json\n",
    "\n",
    "r = requests.get('http://graph.facebook.com/4/picture?type=large')\n",
    "r.url\n",
    "#print(type(r.content))\n",
    "with open(\"fb_pic.jpg\",mode=\"wb\") as pic:\n",
    "    pic.write(r.content)"
   ]
  },
  {
   "cell_type": "code",
   "execution_count": 141,
   "metadata": {},
   "outputs": [
    {
     "name": "stdout",
     "output_type": "stream",
     "text": [
      "https://assets.passiton.com/quotes/quote_artwork/8202/medium/20210414_wednesday_quote.jpg?1618004555\n"
     ]
    }
   ],
   "source": [
    "import re\n",
    "url = 'https://www.passiton.com/inspirational-quotes'\n",
    "response = requests.get(url)\n",
    "\n",
    "#print(type(response))\n",
    "\n",
    "\n",
    "soup = BeautifulSoup(response.content,'html.parser')\n",
    "\n",
    "'''\n",
    "def compassion(href):\n",
    "    return href and re.compile(\"8202-imagination-is-not-just-the-catalyst-of-art\").search(href)\n",
    "\n",
    "href_tag = soup.find(href=compassion)\n",
    "print(href_tag.next_element['src'])\n",
    "'''\n",
    "\n",
    "def find_img_url(src):\n",
    "    return src and re.compile(\"20210414_wednesday_quote.jpg\").search(src)\n",
    "\n",
    "img_tag=soup.find(src=find_img_url)\n",
    "img_tag['src']\n",
    "\n",
    "r = requests.get(img_tag['src'])\n",
    "\n",
    "with open(\"image_inspiration.jpg\",mode=\"wb\") as image:\n",
    "    image.write(r.content)\n",
    "    \n",
    "\n",
    "\n",
    "\n",
    "\n",
    "#print(soup.find('section','half-section bg-extra-dark-gray half-section').prettify())\n",
    "\n"
   ]
  },
  {
   "cell_type": "code",
   "execution_count": null,
   "metadata": {},
   "outputs": [],
   "source": []
  }
 ],
 "metadata": {
  "kernelspec": {
   "display_name": "Python 3",
   "language": "python",
   "name": "python3"
  },
  "language_info": {
   "codemirror_mode": {
    "name": "ipython",
    "version": 3
   },
   "file_extension": ".py",
   "mimetype": "text/x-python",
   "name": "python",
   "nbconvert_exporter": "python",
   "pygments_lexer": "ipython3",
   "version": "3.8.5"
  }
 },
 "nbformat": 4,
 "nbformat_minor": 4
}
