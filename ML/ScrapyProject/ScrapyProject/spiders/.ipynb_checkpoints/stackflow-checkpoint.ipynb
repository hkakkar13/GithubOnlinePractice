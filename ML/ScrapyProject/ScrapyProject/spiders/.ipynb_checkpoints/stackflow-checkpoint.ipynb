{
 "cells": [
  {
   "cell_type": "code",
   "execution_count": 2,
   "metadata": {},
   "outputs": [],
   "source": [
    "import scrapy\n",
    "\n",
    "class Stackflow(scrapy.Spider):\n",
    "    name = \"stackflow\"\n",
    "    \n",
    "    def start_requests(self):\n",
    "        urls = [\n",
    "            'https://stackoverflow.com/questions?pagesize=50&sort=newest',\n",
    "        ]\n",
    "        \n",
    "        for url in urls:\n",
    "            yield scrapy.Request(url,callback=self.parse)\n",
    "        \n",
    "    def parse(self,response):\n",
    "        sel = scrapy.Selector(response)\n",
    "        questions = sel.xpath('//div[@class=\"summary\"]/h3')\n",
    "        \n",
    "        for question in questions:\n",
    "            print(question)\n",
    "    \n",
    "        \n",
    "    "
   ]
  },
  {
   "cell_type": "code",
   "execution_count": null,
   "metadata": {},
   "outputs": [],
   "source": []
  }
 ],
 "metadata": {
  "kernelspec": {
   "display_name": "Python 3",
   "language": "python",
   "name": "python3"
  },
  "language_info": {
   "codemirror_mode": {
    "name": "ipython",
    "version": 3
   },
   "file_extension": ".py",
   "mimetype": "text/x-python",
   "name": "python",
   "nbconvert_exporter": "python",
   "pygments_lexer": "ipython3",
   "version": "3.8.5"
  }
 },
 "nbformat": 4,
 "nbformat_minor": 4
}
