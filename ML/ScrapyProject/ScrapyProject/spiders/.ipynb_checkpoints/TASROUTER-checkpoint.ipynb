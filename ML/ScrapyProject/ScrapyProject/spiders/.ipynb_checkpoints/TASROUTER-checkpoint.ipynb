{
 "cells": [
  {
   "cell_type": "code",
   "execution_count": 3,
   "metadata": {},
   "outputs": [],
   "source": [
    "import scrapy\n",
    "\n",
    "class TasrouterSpider(scrapy.Spider):\n",
    "    name = \"monitor-tasrouter\"\n",
    "    \n",
    "    def start_requests(self):\n",
    "        urls =[\n",
    "        'https://10.52.201.155:7630/cib/live',\n",
    "        ]\n",
    "        \n",
    "        for url in urls:\n",
    "            yield scrapy.http.Request(url=url,callback=self.parse)\n",
    "            \n",
    "    def parse(self,response):\n",
    "        filename = \"tasrouter.txt\"\n",
    "        with open(\"tasrouter.txt\",mode=\"wb\") as f:\n",
    "            f.write(response.body)\n",
    "        self.log(f'Saved file {filename}')\n",
    "    \n",
    "    "
   ]
  },
  {
   "cell_type": "code",
   "execution_count": null,
   "metadata": {},
   "outputs": [],
   "source": []
  }
 ],
 "metadata": {
  "kernelspec": {
   "display_name": "Python 3",
   "language": "python",
   "name": "python3"
  },
  "language_info": {
   "codemirror_mode": {
    "name": "ipython",
    "version": 3
   },
   "file_extension": ".py",
   "mimetype": "text/x-python",
   "name": "python",
   "nbconvert_exporter": "python",
   "pygments_lexer": "ipython3",
   "version": "3.8.5"
  }
 },
 "nbformat": 4,
 "nbformat_minor": 4
}
