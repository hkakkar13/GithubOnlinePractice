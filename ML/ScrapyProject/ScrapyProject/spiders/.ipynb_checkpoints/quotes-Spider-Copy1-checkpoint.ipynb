{
 "cells": [
  {
   "cell_type": "code",
   "execution_count": 10,
   "metadata": {},
   "outputs": [],
   "source": [
    "import scrapy\n",
    "\n",
    "class QuotesSpider(scrapy.Spider):\n",
    "    name = \"quotes-Spider\"\n",
    "    \n",
    "    def start_requests(self):\n",
    "        urls =[\n",
    "        'http://quotes.toscrape.com/page/1/',\n",
    "        'http://quotes.toscrape.com/page/2/',\n",
    "    ]\n",
    "        for url in urls:\n",
    "            yield scrapy.http.Request(url=url,callback=self.parse)\n",
    "    \n",
    "    def parse(self,response):\n",
    "        page = response.url.split('/')[-2]\n",
    "        filename = f'quotes-{page}.html'\n",
    "        \n",
    "        with open(filename,mode=\"wb\") as f:\n",
    "            f.write(reponse.body)\n",
    "        self.log(f'Saved file {filename}')"
   ]
  },
  {
   "cell_type": "code",
   "execution_count": null,
   "metadata": {},
   "outputs": [],
   "source": []
  }
 ],
 "metadata": {
  "kernelspec": {
   "display_name": "Python 3",
   "language": "python",
   "name": "python3"
  },
  "language_info": {
   "codemirror_mode": {
    "name": "ipython",
    "version": 3
   },
   "file_extension": ".py",
   "mimetype": "text/x-python",
   "name": "python",
   "nbconvert_exporter": "python",
   "pygments_lexer": "ipython3",
   "version": "3.8.5"
  }
 },
 "nbformat": 4,
 "nbformat_minor": 4
}
