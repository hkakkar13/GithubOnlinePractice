{
 "cells": [
  {
   "cell_type": "code",
   "execution_count": 29,
   "metadata": {},
   "outputs": [
    {
     "name": "stdout",
     "output_type": "stream",
     "text": [
      "Illegitimate user\n"
     ]
    }
   ],
   "source": [
    "username = {\n",
    "    \"Sachin\" : 10,\n",
    "    \"Dhoni\"  : 11,\n",
    "    \"Yuvraj\" : 15\n",
    "}\n",
    "   \n",
    "\n",
    "def add(a,b,user,password):\n",
    "    if user in username and username[user] == password :\n",
    "        print(\"Hi {}\".format(user)+\" the sum is : {}\".format(a+b))\n",
    "    else :\n",
    "        print(\"Illegitimate user\")\n",
    "        \n",
    "add(2,5,\"Yuvraj\",12)"
   ]
  },
  {
   "cell_type": "code",
   "execution_count": 30,
   "metadata": {},
   "outputs": [
    {
     "name": "stdout",
     "output_type": "stream",
     "text": [
      "Hi Sachin\n",
      " the sum is : 27\n",
      "Hi Sachin\n",
      " the sum is : 27\n"
     ]
    }
   ],
   "source": [
    "def login_required(func_to_check):\n",
    "    def wrapper(user,password,*args,**kwargs):\n",
    "        if user in username and username[user] == password :\n",
    "            print(\"Hi {}\".format(user)) \n",
    "            func_to_check(*args,**kwargs)\n",
    "        else:\n",
    "            print(\"Illegitimate user\")\n",
    "            \n",
    "    return wrapper\n",
    "            \n",
    "def add_new(a,b):\n",
    "    print(\" the sum is : {}\".format(a+b))\n",
    "    \n",
    "protect_add = login_required(add_new)\n",
    "add_new = login_required(add_new)\n",
    "\n",
    "protect_add(\"Sachin\",10,24,b=3)\n",
    "\n",
    "add_new(\"Sachin\",10,24,3)\n",
    "        "
   ]
  },
  {
   "cell_type": "code",
   "execution_count": 28,
   "metadata": {},
   "outputs": [
    {
     "name": "stdout",
     "output_type": "stream",
     "text": [
      "Hi Sachin\n",
      " the sum is : 27\n"
     ]
    }
   ],
   "source": [
    "def login_required(func_to_check):\n",
    "    def wrapper(user,password,*args,**kwargs):\n",
    "        if user in username and username[user] == password :\n",
    "            print(\"Hi {}\".format(user)) \n",
    "            func_to_check(*args,**kwargs)\n",
    "        else:\n",
    "            print(\"Illegitimate user\")\n",
    "            \n",
    "    return wrapper\n",
    "\n",
    "@login_required\n",
    "def add_new(a,b):\n",
    "    print(\" the sum is : {}\".format(a+b))\n",
    "    \n",
    "#add_new = login_required(add_new)\n",
    "\n",
    "add_new(\"Sachin\",10,24,3)\n",
    "    \n",
    "        "
   ]
  },
  {
   "cell_type": "code",
   "execution_count": 31,
   "metadata": {},
   "outputs": [
    {
     "name": "stdout",
     "output_type": "stream",
     "text": [
      "((1, 2, 3),)\n",
      "{}\n",
      "(1, 2, 3)\n",
      "{}\n",
      "('Himanshu',)\n",
      "{}\n",
      "('H', 'i', 'm', 'a', 'n', 's', 'h', 'u')\n",
      "{}\n",
      "(7,)\n",
      "{}\n"
     ]
    }
   ],
   "source": [
    "def temp(*args,**kwargs):\n",
    "    print(args)\n",
    "    print(kwargs)\n",
    "    \n",
    "a = (1,2,3)\n",
    "b = \"Himanshu\"\n",
    "c = 7\n",
    "\n",
    "temp(a)\n",
    "temp(*a)\n",
    "temp(b)\n",
    "temp(*b)\n",
    "temp(c)\n",
    "#temp(*c)"
   ]
  },
  {
   "cell_type": "code",
   "execution_count": 7,
   "metadata": {},
   "outputs": [
    {
     "name": "stdout",
     "output_type": "stream",
     "text": [
      "['e', 'a', 'l', 'p', 'y', 't', 'h', 'o']\n",
      "['R', 'e', 'a', 'l', 'p', 'y', 't', 'h', 'o', 'n']\n"
     ]
    }
   ],
   "source": [
    "x,*a,z = \"Realpython\"\n",
    "*b,=\"Realpython\"\n",
    "\n",
    "print(a)\n",
    "print(b)"
   ]
  },
  {
   "cell_type": "markdown",
   "metadata": {},
   "source": [
    "https://realpython.com/python-kwargs-and-args/"
   ]
  },
  {
   "cell_type": "markdown",
   "metadata": {},
   "source": [
    "### Wrappers extend the behavior of function w/o explicitly modifying it.\n",
    "https://realpython.com/primer-on-python-decorators/"
   ]
  }
 ],
 "metadata": {
  "kernelspec": {
   "display_name": "Python 3",
   "language": "python",
   "name": "python3"
  },
  "language_info": {
   "codemirror_mode": {
    "name": "ipython",
    "version": 3
   },
   "file_extension": ".py",
   "mimetype": "text/x-python",
   "name": "python",
   "nbconvert_exporter": "python",
   "pygments_lexer": "ipython3",
   "version": "3.8.5"
  }
 },
 "nbformat": 4,
 "nbformat_minor": 4
}
